{
  "nbformat": 4,
  "nbformat_minor": 0,
  "metadata": {
    "colab": {
      "provenance": [],
      "authorship_tag": "ABX9TyOLqnh8tT0N/3jgWBrnu2n5"
    },
    "kernelspec": {
      "name": "python3",
      "display_name": "Python 3"
    },
    "language_info": {
      "name": "python"
    }
  },
  "cells": [
    {
      "cell_type": "code",
      "execution_count": 1,
      "metadata": {
        "colab": {
          "base_uri": "https://localhost:8080/"
        },
        "id": "gjtDMH2Lcl0H",
        "outputId": "70bed23f-672e-461f-c1a8-d28831d2d4b8"
      },
      "outputs": [
        {
          "output_type": "stream",
          "name": "stdout",
          "text": [
            "Drive already mounted at /content/drive; to attempt to forcibly remount, call drive.mount(\"/content/drive\", force_remount=True).\n"
          ]
        }
      ],
      "source": [
        "from google.colab import drive\n",
        "drive.mount('/content/drive')\n"
      ]
    },
    {
      "cell_type": "code",
      "source": [
        "import os\n",
        "import pandas as pd\n",
        "from sklearn.model_selection import train_test_split\n",
        "from sklearn.feature_extraction.text import CountVectorizer\n",
        "from sklearn.naive_bayes import MultinomialNB\n",
        "from sklearn.metrics import accuracy_score, classification_report"
      ],
      "metadata": {
        "id": "yReeOeSIc79d"
      },
      "execution_count": 2,
      "outputs": []
    },
    {
      "cell_type": "code",
      "source": [
        "# Veri setinin bulunduğu dizini belirtin\n",
        "data_dir = \"/content/drive/My Drive/Veri Seti\"\n",
        "\n",
        "# Veri setindeki dosyaların listesini alalım\n",
        "file_list = os.listdir(data_dir)\n",
        "data = {'lyrics': [], 'label': []}\n",
        "# Dosyaları okuyup içeriğini görüntüleyelim\n",
        "for file_name in file_list:\n",
        "    with open(os.path.join(data_dir, file_name), 'r', encoding='utf-8') as file:\n",
        "        content = file.read()\n",
        "        data['lyrics'].append(content)\n",
        "        if \"Zararli\" in file_name:\n",
        "            data['label'].append(1)\n",
        "        else:\n",
        "            data['label'].append(0)\n",
        "print(data)\n"
      ],
      "metadata": {
        "colab": {
          "base_uri": "https://localhost:8080/"
        },
        "id": "jvn9nKlZctzC",
        "outputId": "39b3bd24-21aa-405c-e1c7-ea0f4b50b433"
      },
      "execution_count": 3,
      "outputs": [
        {
          "output_type": "stream",
          "name": "stdout",
          "text": [
            "{'lyrics': [\"Kime ne kime ne kime ne\\nKafam taşak gibi yine kime ne\\nİçiyo'm her gün oğlum tabi ki\\nSana ne sana ne sana ne\\nKapım çalar polis mi o iyice\\nBakmadan açayım deme sakın he\\nSallanıyo' zincir ta sikime\\nKime ne kime ne kime ne\\nSallanıyo' zincir ta sikime (Zincir ta) Sikime-e-e (Sikime)\\nCepler şişman dolu hep (Cepler şişman)\\nBakar şaşkın gözler dolu hep (Şaşkın gözler)\\nBizi tanıman gerek yanılma sakın sakın ha\\nOnlar anca konuşur boş kafalar (Boş)\\nBende hepsi var ne istiyo'n sen bahset ondan (Hadi lan)\\nSıkı tut ağzını aman bişey kaçırma\\nHerkes aynı yolda, benim yolum orda\\nBana kafa tutma yok yok (Yok)\\nSen anlamıcan, bunu belli oldu\\nOyunum üst düzey çok çok (Çok)\\nKime ne len varsa üstümde 100 gram dalga\\nSana ne len varsa altımda üçyüzlük araç\\nGeliyo'm len mahalleden sıfırdan bu anla\\nEkibim sert bekliyo' hepsi bak telefonda\\nKime ne kime ne kime ne\\nKafam taşak gibi yine kime ne\\nİçiyo'm her gün oğlum tabi ki\\nSana ne sana ne sana ne\\nKapım çalar polis mi o iyice\\nBakmadan açayım deme sakın he\\nSallanıyo' zincir ta sikime\\nKime ne kime ne kime ne\\nDerdin ne benimle, bilmiyo'm hiç de gelmiyo'n işime\\nDaha fazla deneme bence sür evine\\nSokak sana göre değil, belli bu başından beri de\\nAlcağını al hadi dön evine\\nArkana bakmadan yürü evine\\nGürçeşme, Son Durak, marketin köşeyi dönünce\\nHayır geçemez kimse bundan öteye\\nHayır gidemez kimse bundan öteye (Hayır hayır!)\\nSen bana sormadan burda ne bok yiyo'n lan\\nBana sormadan düştün şimd çıkamıyo'nda\\nBana sormadan kendini ilan ettin kral lan\\nSokak soru sormaz alır canını bi anda (Brrr!)\\nDoğrulur surata bi anda\\nCesedin kalıyo' bi yanda\\nYavaşça geçiyo' siyahtan\\nBeyaza ruhunu çıkarır sigara\\nKime ne kime ne kime ne\\nKafam taşak gibi yine kime ne\\nİçiyo'm her gün oğlum tabi ki\\nSana ne sana ne sana ne\\nKapım çalar polis mi o iyice\\nBakmadan açayım deme sakın he\\nSallanıyo' zincir ta sikime\\nKime ne kime ne kime ne\\nKapım çalar polis mi o iyice\\nBakmadan açayım deme sakın he\\nSallanıyo' zincir ta sikime\\nKime ne kime ne kime ne\", \"Çek bi' duman bana, dön bunu\\nHer tadan aklını kaybedecek (Ey)\\nHarmanım içmedim on gündür\\nBu durum beni mahvedecek (Ey)\\nSenin her türün ayrı bi' zevk\\nMary Jane, Mary Jane, Mary Jane\\nSeni istiyorum yanımda her gün\\nBu durum beni mahvedecek (Skrrt)\\nÇek bi' duman bana, dön bunu\\nHer tadan aklını kaybedecek (Ey)\\nHarmanım içmedim on gündür\\nBu durum beni mahvedecek (Ey)\\nSenin her türün ayrı bi' zevk\\nMary Jane, Mary Jane, Mary Jane\\nSeni istiyorum yanımda her gün\\nBu durum beni mahvedecek\\nYou might also like\\nWho’s Afraid of Little Old Me?\\nTaylor Swift\\nPush Ups\\nDrake\\nSo High School\\nTaylor Swift\\nSeni kötüleyip kafamın içine giriyo'lar\\nAma vermiyorum prim hiçbirine\\nKokunu duyunca yanıma gelip\\nYalandan ''Nasılsın?'' diye soruyo'lar\\nDiyorum ''İyi, eh''\\nGeldikleri yere gönderiyorum hep\\nİki yüzlük banknot dolu cep\\nParayı senin için harcarım\\nYa da denize dökerim nakit halinde bi' tek (Ey)\\nHer gece gizlice koklamıyo'rum üs-üstüne başka çiçek\\nAma sen başka dudaklara deyip duruyo'sun\\nBu durum beni mahvedecek\\nHadi gel yanıma ve resmini çek\\nMary çek, çek, Mary çek, Mary çek\\nYan yana o kadar iyi duruyoruz ki\\nBizim adımıza filtre yapmalı Snap-chat\\nGördüğüm milyon farklı çeşit kafa\\nBeni hiçbiri kendine bağlayamamıştı senin kadar\\nMary hapset beni, verme bu yavşaklara\\nHiçbiri gerçek değil aşkım senin kadar \\nSatmam seni, istemem peşin para\\nCepler cash dolsa sen yokken neye yarar?\\nParfüm beş bin dolar, güzel kokar\\nAma yakışmaz tenime senin kadar\\nÇek bi' duman bana, dön bunu\\nHer tadan aklını kaybedecek (Ey)\\nHarmanım içmedim on gündür\\nBu durum beni mahvedecek (Ey)\\nSenin her türün ayrı bi' zevk\\nMary Jane, Mary Jane, Mary Jane\\nSeni istiyorum yanımda her gün\\nBu durum beni mahvedecek (Skrrt)\\nÇek bi' duman bana, dön bunu\\nHer tadan aklını kaybedecek (Ey)\\nHarmanım içmedim on gündür\\nBu durum beni mahvedecek (Ey)\\nSenin her türün ayrı bi' zevk\\nMary Jane, Mary Jane, Mary Jane\\nSeni istiyorum yanımda her gün\\nBu durum beni mahvedecek\\n\", 'Bu \"G\" ve de \"i\" ve de \"Z\" bide \"GANG\" ah\\nSulh arama sokağımın adı tenha\\nDur burası sana korkulu fazla\\nBi vurguna gidecek her biri kurban.\\nStilim urban, ritimim durmaz\\nİnce bir ip rap Şam üstünde cambaz\\nElimde ganja, kafamda marsta\\nSaçlarım değil homie ruhum bi rasta\\nKalbim reosta bi bak bana usta\\nJunkie\\'ler toplandı tek bir hususta\\nSarsılır bünyeniz ani bir şokla\\nPolis kovalar seni arkadan jopla\\nMedya hapis ve sokaklar ütopya\\nPara için kalmadı yediğiniz bok lan!\\nBakıyorum rapçiler kaynaştı popla\\nBen sana bakmam yetin bi dildoyla sürtük\\nBeyin nakli bu parça hepinize\\nBi dörtlük yeter yine de fazlasını önüne döktüm\\nÇıkaramıyorsan kendine pay\\nTren bende fakat senin altından geçiyor ray\\nHadi kaç! arkana bakmadan\\nBurası GiZ, sokaklarını yağmalar\\nÇocuk uza hipnoz olmadan\\nDönüşü yok bu yolun hiç sonradan.\\nHadi kaç! arkana bakmadan\\nBurası GiZ, sokaklarını yağmalar\\nÇocuk uza hipnoz olmadan\\nDönüşü yok bu yolun hiç sonradan.\\nZenciler mahalleye indi yarım kalan işi bi bitirip\\nSokaklar sessiz köşe başında bekler iki bitirim\\nYürümez Türkçe Rap sizin bahsettiğiniz birlikle\\nRapim Marlon Brando karşımda ceketini ilikle\\nBir ilke imza attı GiZ GVNG\\nVariller yansın sikik piyasada yok kimseye respect\\nDisslesek seni ayılırsın iç desek bayılırsın\\nYalandan ortamlarda da adamdan sayılırsın\\nSokakta torbacısıda var iş koyanıda ha\\nBu dağın mağarasıda biziz arı kovanıda ha\\nDünyanıza ayak bastım\\nBen bu şehrin caddelerine hayallerimi astım\\nKastım var ulan elime geçen cisimle kafanı çizer\\nHele bi diren, seni bitiren var mı kaybettiğini geri getiren, yok!\\nKaranlıktan kaçtın gizlendin\\nO an bense boş bi sokak lambası altında piizlendim.\\nYazdığını beğenme, at kenara üretmeyip\\nYıllar sonra dön geri ve birde saygı bekle\\nLiman olsa yeraltı çok gemiler gitti\\nArtık sense hala bekliyorsun kıyılarda tekne.\\nDöndü boss! pasif orada microphone\\'u check ha\\nHasta olan beyinlere GiZ GVNG\\'den çek ha\\nKarşında bul bizi, sende rapi üzerken\\nYağmam tabi eğer bir gün sokaklara küsersem\\nVazgeçmek kaybetmedin çoğu\\nPeki bu gidenin mi duranın mı suçu?\\nOrada dur! istemeyiz sokaklarda sulh ah!\\nMevzu isteyene derim çekte beni vur\\nModanızda battı artık bırak bırak dön geri\\nBu en derinden gelir hislerim mi bunun engeli?\\nGeride kalsa, önüne baksa yine de atmaz tur\\nÇünkü GiZ GVNG bu akıllarda kaybedildi şuur.\\nBu \"G\" ve de \"i\" ve de \"Z\" bide \"GANG\" ah\\nSulh arama sokağımın adı tenha\\nDur burası sana korkulu fazla\\nBi vurguna gidecek her biri kurban.\\nYıkılmaz kaleler, Gang devrilir sanma\\nHaşat etmek için çalar ve teybini basar\\nDüşersen üşürsün dostum bünyeni paslar\\nÜstünden öyle bi geçeriz ki eğilir asfalt\\nAma daha çok var çatışma, yok sizle barışmak\\nOlay İstanbul\\'a taşınmak değil o yüzle tanışmak\\nPara pis ve yapışkan, boş ateş etme çocuk\\nSenin en büyük gangsterliğin cannabisle tanışmak\\nHalen bizle kapışmak isteyene sela getirin\\nNe kadar ekibi varsa oluruz o kadar pis bi bela\\nNe var ne yok fena, bana bu bok deva\\nGiZ GVNG diye yazılıp, okunur Nema Problema\\nWhat\\'s up nigga? başlat bi daha\\nİçmeye gerek yok bu tayfa sizden kaç kat killa\\nTarzı gecenin dibine kadar Non-Stop killa\\n\"G\" ve de \"i\" ve de \"Z\" Moth... ker!\\nBu benim hayatım tutamadım g.tünüze kaçtı\\nSizin oksijen dolu rapiniz kafamızı açtı\\nKaçıkla dolu bizim takım,\\nSeni or.spu yaparım sana başka isim takıp.\\nSiz sevin Anayasa\\'yı.\\n1; Ambulanstan önce gelen yayın yasağı. Uuu!\\nMahallede çete, İhtiyacımız yok bizim bi markete bile.\\nBiz yapınca ibnelerin yüzü buruşur\\nPac kurtarılan kafaların ritim tutuşu\\nTrip Bang diye yazıp Fişşek diye oku 1 seni tutup saçlarından\\nBattle Jesus okutur laan!\\nSakin ol belki şampiyon olursun\\nKamp gibi kurulsun bize heepsi\\nGece köşe başında elimde Peepsi\\nNeyden bahsettiğimi bir gün göreceeksin!\\nHiç birinizin bu aklı yerinde değil\\nKaraköy haramilerine delirmiş deyin.\\nGeceden operasyon bak takipteyim\\nNefesler sessiz ve de derin.\\nKoşmadan yorulana, parayı çalana,\\nKadına dayak atan adamın kalıbına\\nÇocuk istismarı yapan sapkınlara,\\nSakalına okutan sahte imamına\\nSes çıkarmayan insanlara bak\\nGereksiz ve bi o kadar da kalpsizler.\\nSokakta kızına laf yerse kan eyler\\nSoktuğumun tenekeleri cahiller!\\nDilim var oldukça susma vur, Bizi dinle uslan dur.\\nSokak, yaşam cani her taraf\\nTrip, GiZ GVNG ve İstanbul!', 'Adana, Adana\\nAdana merkez, patlıyo\\' herkes\\nŞekeri atan kopmalık açıyo\\' son ses\\nMugo valla\\' diyo\\', \"Cigaramız enfes\"\\nBoş kafayla yaptın lan, ses kes\\nAdana merkez, patlıyo\\' herkes\\nŞekeri atan kopmalık açıyo\\' son ses\\nMugo valla\\' diyo\\', \"Cigaramız enfes\"\\nBoş kafayla yaptın lan, ses kes\\nGamu, harmanız, hadi çöz bize bomba\\nKek ile torbacıya veririm sonra\\nO işler öyle olmuyor, usta\\nTekrar yok, İsyan Tetick vizyonda\\nKalk, kardeş, üç beş bi\\' şey yapak\\nRüyamda gördüm, şu bankayı soyak\\nGittiğimiz gibi direk paket olak\\nNezarette yine mevzu çıkartak\\nAdana çocuğu bu, ayıktın, güzelim\\nMahkemeye gidip ifade verelim\\nKafamız güzelken adliyeye girelim\\nManitayı ayarla, ben çok severim\\nÜç var, beş var, beş yok, üç yok\\nGören diyecek torbacıyı satın alıyok\\nŞeker diyo\\'sun, kardeş, hızlandır\\'ım seni\\nBi\\' gapak cigarayla patlatır beni\\nTetik, tetik\\nTetikçi diyo\\' bana içimdeki hisler\\nOğlum, bak bu adam çok sizi diss\\'ler\\nBen sahneye çıkardım evet böyle kişner\\nYaptığın parçalar gözümde hiçler\\nHemen şimdi cigara mevzusuna dönelim\\nİçiyorsak eğer susmayı tercih ederim\\nGafamız güzelken mahkemeye girelim\\nŞekerin üstüne cigarayı ben çok severim\\nKuş yemsiz, şeker cigarasız uçmaz\\nPatlıyanlar mevzu çıkarır, susmaz\\nBayılana kadar içerim hayatta kusmam\\nBöyle diyenleri çok gördük, ustam\\nSigara içmeyi bile bilmiyo\\'dun sen\\nNe ara bonzaiye başladın, brem\\nHe, unutmadan söylüyo\\'m bur\\'da\\nKullanmıyorum madde filan\\nİsyan Tetick\\nAdana Seyhan, Sarıhamzalı, 2015 (Mesele çakal olmakta değil, yeğen)\\nYükselen Sesler Records (Asıl mesele çakallarla dans edebilmekte)', 'Na-na-na-na-na-na, ha-ha-ah\\nGece-geceler\\nGeceler\\nGeceler\\nAh\\nKırmızı fren, kırmızı bira (kırmızı bira)\\nHırlısı hem hırsızı bir arada\\nKırmışım ben fıttırırken (fıttırırken)\\n\"Geceler daha acımasız gündüzden\", der Gencebay (der Gencebay)\\nGeceleyin hem dert hem iş hem eğ-eğlence var\\nDuygularım karmakarışık uyanırım uykularımdan\\nUyuyamamak mı? Ki geceleri gece yapan buydu kanımca\\nTakılırım şehrimin kuytularında\\nHer yerde değişik huylu kadınlar\\nHuysuz adamlar, şuursuz adımlar\\nDolaşırım beynimin uydularında\\nKulağını aç ve de duy bu yarından\\nÖnceki saat, ganja ve kâğıt\\nTüm gece dar, hazır\\nBitmemiş daha gece, işlerim var\\nİzbelik sarmış şehrini bak\\nKendine espri yap\\nFazla iç, geçmişi an\\nElimde hiçbi\\' şey yok, çünkü hiçbi\\' şey var\\nKaranlıklardan doğar aydınlıklar\\nEsrarın da etkisiyle ışık daha parlak\\nÇekilir nefesler\\nKaranlıktan yolum, yönüm, yıldızlar ve sesler\\nAy, Güneş\\'ten daha güzel\\nGeceler, geceler, kafamın peşindeyken\\nYaşarım neyim neysem\\nGeceler, geceler, istemem yarın olsun\\nOlsun, geceler dolsun yine\\nGeceler, geceler, kafamın peşindeyken\\nYaşarım neyim neysem\\nGeceler, geceler, istemem yarın olsun\\nOlsun, geceler dolsun yine\\nKızmışım ben, kızmışım bi\\' daha (kızmışım bi\\' daha)\\nHırslıyım, kaybettiğim şeyler hâlâ\\nBeynimin bir kenarında (kenarında)\\nBir bar taburesi üstünde\\n2Pac\\'ın öldüğü yaşta\\nBunalım döngüsü başlar\\nBunalıp döktüğün yaşlar\\nGeceler hepsinin özü\\nBebeler gezer, her şehrin idolü\\nEzhel, her meselen yaşamak ise\\nKaçarak yaşamak niye?\\nYaşamak şatafat gibi\\nYaşamak aramak bi\\' şey\\nAramak savaşmak için\\nBaşarmak kafanda biter\\nBu yazarak anlatılmaz\\nGeceler akla sığmaz\\nOlurum yarasa, olurum tam bir vampir\\nAlacakaranlığa yaparım bungee jumping\\nGecem siyahi daha iyi\\nNe olabilir ki rap fon müziğiyken hayatımın hep?\\nGecelerdeyim son günüme dek (dek)\\nSon güne denk gelecek gece bekçisi Ezhel hep (Ezhel hep)\\nEsrarın da etkisiyle ışık daha parlak\\nÇekilir nefesler\\nKaranlıktan yolum, yönüm, yıldızlar ve sesler\\nAy, Güneş\\'ten daha güzel\\nGeceler, geceler, kafamın peşindeyken\\nYaşarım neyim neysem\\nGeceler, geceler, istemem yarın olsun\\nOlsun, geceler dolsun yine\\nGeceler, geceler, kafamın peşindeyken (geceler)\\nYaşarım neyim neysem (neler neler)\\nGeceler, geceler, istemem yarın olsun (olsun)\\nOlsun, geceler dolsun yine', \"Ankara ayazı ruhumu keser\\nBi' cebimde yok kapital\\nBi' cebimde kenevir tohumu\\nAyrancı Cebeci Kennedy yokuşu\\nKaybettim gene şu yolumu\\nKafam taşak gibi karnımız aç\\nN'apsak şimdi? Süper marketten çalsak bi' şey\\nSosis ve salam\\nYerim kafam düşer tekrar tekrar ot ister canım\\nAh polisten kaçın B B Bugy\\nRap'in pavyonunda olurum Çubuklu Yaşar\\nManita tutulur bana onu da öpemem lüzumsuz kaçar\\nAtar atar gider bebeler bebeler\\nTakılır gecelerde maymunluk yapar\\nGözü kızıl gözü kara bebek\\nÇözüp durdum çözüm para demek\\nO da bana ve de sana gerek\\nSalak bebelerde karakter eksik\\nDaha hanginizi adam edek?\\nYanaşır yılışık bahane seks\\nSoyup soyar seni atar heves\\nYanında viski ve vodka ve afgan var hepsinin tadı nefis\\nKaranlık çöktüğünde koktuğunda kömür sokak\\nŞehrimin tadı ağzımda yine\\nİs pas kir kömür plastik çöplük lastik egzoz esrar\\nKaranlık çöktüğünde koktuğunda kömür sokak\\nŞehrimin tadı ağzımda yine\\nİs pas kir kömür plastik çöplük lastik egzoz esrar\\nİs pas kir kömür plastik çöplük lastik egzoz esrar\\nİs pas kir kömür plastik çöplük lastik egzoz esrar\\nİs pas kir kömür plastik çöplük lastik egzoz esrar\\nİs pas kir kömür\\nTüm şehir bi' pavyon ve bizim paramız yok\\nŞükür ki karnımız tok, şansımız çok olur elimiz floş\\nSadece dirsekten aşağımız bronz\\nKışımız soğuk olur kırımız boz\\nKızımız hoş olur hızlıdır çok\\nDenizi var ama kıyısı yok\\nKuyumu kaz ister ki kuyruğuma bas\\nKuyunuz kafama kuru a basınız tuzunuz kuruda kurunuz yaş\\nSuçluluk duygunuz surata yansır bırakın yansın\\nKıralım kafa\\nBen de sözde kralım la' kralım lafta\\nİnceyi anla, İncek'i İncesu'dan ayıran sistemi sik'im\\nHep size, hep size lan biz de isteriz bi' şey\\nGençlerim işsiz de patronlar sizken sikeyim işi\\nKendi patronum benim takım elbisemse kapşonum berem\\nMetropollerinde hapsolur gelen\\nGhettolar evinse hep sonun beter\\nKetum ol bebem\\nDuyarlar işine sokarlar çomak\\nÇok ahkam kesenler çıkarlar korkak\\nHiç emek vermeden çıkarlar ortak\\nSen zannediyo'ken çıkarlar ortak\\nSonuna seni de tokatlar sokak\\nKonular forumda bok atmak kolay\\nKokarken sokaklar düşersin boka\\nİs pas kir kömürde yaşarsın boşa\\nKaranlık çöktüğünde koktuğunda kömür sokak\\nŞehrimin tadı ağzımda yine\\nİs pas kir kömür plastik çöplük lastik egzoz esrar\\nKaranlık çöktüğünde koktuğunda kömür sokak\\nŞehrimin tadı ağzımda yine\\nİs pas kir kömür plastik çöplük lastik egzoz esrar\\nİs pas kir kömür plastik çöplük lastik egzoz esrar\\nİs pas kir kömür plastik çöplük lastik egzoz esrar\\nİs pas kir kömür plastik çöplük lastik egzoz esrar\\nİs pas kir kömür plastik çöplük lastik\\nEgzoz esrar kömür plastik\\nEgzoz esrar kömür plastik\\nEgzoz esrar kömür plastik\\nEgzoz esrar kömür\", 'Ah, ah, ah, yeah\\n(B-B-B-Bugy)\\nEy\\nYine günlerden bir gün ben kaldım harman\\nBoş kafayı kaldıramam, lazım sarmam\\nÇağırsam kankaları lazım yardımlaşmam\\nKoal, koal, koal, koal, koal, koal\\nEy, ararım telefondan ama hep çaldı meşgul\\nAh, kankalarım kovalıyor gayrimeşru\\nEy, kankalar kova alıyor hayli mesut\\nAh, kankalar sanıyor Ezhel hayli meşhur\\nEy, koal, koal, koal, koal, koal, koal\\nAh, zannedersin öyle çözmek daha kolay\\nEy, ararsın da açmazlar lan, \"Hâlâ yoklar\"\\nAh, derken tel\\'i açtılar dedim ki \"Ortak\"\\nEy, \"Alo, alo, alo, alo, alo, alo?\"\\nAh, \"Çözmesek mi?\" dedim \"kardo elim mahkum\"\\n\"La yok, la yok, la yok\" dedi \"param\" dedi, herkes paso\\nAh, suratıma kapadılar (ah) telefonu\\nDedim \"Alo, alo, alo, alo, alo, alo, alo?\"\\n\"Alo, alo, alo, alo, alo, alo?\"\\n\"Alo, alo, alo, alo, alo, alo?\"\\n\"Alo, alo, alo, alo, alo, alo?\"\\nÇalar \"90BPM - Zibidi Parro\"\\nAh, yürüyorum mahalleye, her yer varoş\\nAh, mahallenin girişinde birkaç babo\\nAh, alayı da façalı, alayı maço\\nEy, ıslık çaldı, bebeler dediler \"Gel la\"\\n\"Kaçlık istiyo\\'n\" dedi, dedim \"50\\'lik ver la\"\\nTam o an sirenler çaldı, birden anons\\nDedim \"Hassiktirin gidin la polis mi lan o?\"\\nÖyle hızla koştum, resmen koştum maratonu\\nEy, cepler para dolu, ko-ko-koş tutarak donu\\nEy, her yerini aradım şu pantolonun\\nAh, düşürmüşüm fişekleri durum malum\\nEy-ey, hay amk bu işin, ara çorbacıyı\\nAh-ey, az verse de çözülür şu olayımız\\nImh, aldım diğer gardaşımın onayını\\nEy, dedim abiye \"Güzellik sorayım mı?\"\\nTel\\'i açtı \"Alo, alo, alo, alo, alo, alo?\"\\nAh, \"Müsaitsen görüşe\\'k mi\" dedim \"cano?\"\\nAh, \"Hemen gel\\'ce\\'m\", dedi, \"ya beş dak\\'ka ya on\"\\nAh, bir yıl oldu gelmedi, aradım paso\\nEy, alo, alo, alo, alo, alo, alo?\\nAlo, alo, alo, alo, alo, alo?\\nAlo, alo, alo, alo, alo, alo?\\nAlo, alo, alo, alo, alo, alo?\\nAlo, alo?\\nAlo, alo?\\nAlo, alo?\\nAlo, alo?', 'Şşşt yavru alıyım mı seni?\\nBana geçeriz ya, sıkıntı yok\\nCanım hiç öpmiyim ya\\nGece paralısı, son model arabası\\nBitmiyor merhabası, taş gibi manitası\\nAkıyorlar aleme, janti kankası\\nBize gene kezban, tribi de cabası\\nViskisi, Votkası, kapuçino tayfası\\nŞekiller Dubai, sabah otel odası\\nVe batmıyor Baba Bank, bitmiyor havası\\nBiz gibi garibana demli çay ablası\\nKimi dolanıyor altında Porsche\\'u\\nTipleri müebbet, bitmiyor forsu\\nSanki Dan Bilzerian öptüğümün oğlu\\nCüzdanı kaba diye seviniyor turşu\\nYediği hep aynı; hamburger, patatesi\\nAraba lazım Florya\\'da galerisi\\nBabası mühendis, oğlu kız delisi\\nİnşaatta mala vurur bizim gibi amelesi\\nAlıyım mı seni gece, düşelim barlara?\\nEzelim paraları hunharca\\nİçelim biraları, saçalım liraları\\nBi\\' daha mı gelece\\'z dünyaya?\\nYansın geceler, Pelinsu Eceler\\nBitince paralar nerdeler?\\nHepsi bir hayaldi, hepsi bir rüya\\nManitanın ne işi var bu kroyla?\\nAlıyım mı seni gece, düşelim barlara?\\nEzelim paraları hunharca\\nİçelim biraları, saçalım liraları\\nBi\\' daha mı gelece\\'z dünyaya?\\nYansın geceler, Pelinsu Eceler\\nBitince paralar nerdeler?\\nHepsi bir hayaldi, hepsi bir rüya\\nManitanın ne işi var bu kroyla?\\nKiminin annesi okuyor sanar\\nKızı \"Mervelerde\" diyip geceye akar\\nAga Timuçin\\'i, Berk\\'i, Berkecan\\'ı, Mert\\'i\\nHer biri tek tek taktik yok bam bam\\nHavalı arabalar, yatlar, yazlıklar\\nModayı takip edip manken gibi kasılanlar\\nGarsona bahşiş \"üstü kalsın\"\\'lar\\nHep samimiyetsiz, saçma sapan tavırlar\\nNişantaşı, Ortaköy, Bebek, Beşiktaş\\nYanıyo\\' geceleri, manitalar hep taş\\nTaksim, Maçka, Nispetiye, Fulya\\nTopçusu, popçusu, kodamanı burda\\nNasıl bi\\' dava? Her şey para!\\nAma yaramıyo\\' garibana yok öyle dünya\\nDüşünce dara kimse aramaz ama\\nO zaman anlarsın aga her şey bir rüya\\nAlıyım mı seni gece, düşelim barlara?\\nEzelim paraları hunharca\\nİçelim biraları, saçalım liraları\\nBi\\' daha mı gelece\\'z dünyaya?\\nYansın geceler, Pelinsu Eceler\\nBitince paralar nerdeler?\\nHepsi bir hayaldi, hepsi bir rüya\\nManitanın ne işi var bu kroyla?\\nAlıyım mı seni gece, düşelim barlara?\\nEzelim paraları hunharca\\nİçelim biraları, saçalım liraları\\nBi\\' daha mı gelece\\'z dünyaya?\\nYansın geceler, Pelinsu Eceler\\nBitince paralar nerdeler?\\nHepsi bir hayaldi, hepsi bir rüya\\nManitanın ne işi var bu kroyla?', 'Sarhoşum ah düşünmekten\\nÖldüm ben ah hep sevmekten\\nHer akşam votka rakı ve şarap\\nİçtikçe delirir insan olur harap\\nKurtar beni bundan ne olursun ya Rab\\nBitsin artık bu korkunç serap serap\\nHer akşam votka rakı ve şarap\\nİçtikçe delirir insan, olur harap\\nKurtar beni bundan ne olursun ya Rab\\nBitsin korkunç serap\\nBittim ben ah düşünmekten\\nYoruldum ah hep sevmekten ah\\nHer akşam votka rakı ve şarap\\nİçtikçe delirir insan olur harap\\nKurtar beni bundan ne olursun ya Rab\\nBitsin artık bu korkunç serap, serap\\nHer akşam votka rakı ve şarap\\nİçtikçe delirir insan olur harap\\nKurtar beni bundan ne olursun ya Rab\\nBitsin korkunç serap\\nBittim ben ah düşünmekten\\nYoruldum ah hep sevmekten ah\\nSarhoşum ah sarhoşum\\nÖlmüşüm ben be abi\\nTut kolumdan\\nYok yok git yolumdan\\nSevdiğime gidiyorum ya\\nBak gülüyorum yine\\nGülüyorum çünkü biliyorum beni kovacak\\nKovacak beni\\nSeviyorum onu, biliyor musun?\\nSeviyorum\\nVarsın kovsun\\nKovsun sağlık olsun\\nYine gidicem ona ah', \"Bazen bana gelir, gider seni dert etmeler\\nSeni rüyalarımda hapsetmeler\\nYıldızların hırsızları mı var?\\nTutamam, tutamam, hep yeni bir gün doğar\\nBaşka bi' evrende, en güzel hâlinle\\nSen hayata karış, ben daha da biteceğim\\nKırgınım kendime, üşüyorum gölgende\\nHenüz bilmesen de belki bir gün gideceğim\\nHiç gerek yok daha fazlasına\\nZamanı tutmaya, fezaya uçmaya\\nGeride kaldılar (geride kaldılar), geride kaldı o günler\\nSen varken taptığım kasvetli şehirler\\nBaşka bi' evrende, en güzel hâlinle\\nSen hayata karış, ben daha da biteceğim\\nKırgınım kendime, üşüyorum gölgende\\nHenüz bilmesen de belki bir gün gideceğim\\nBaşka bi' evrende, en güzel hâlinle\\nSen hayata karış, ben daha da biteceğim\\nKırgınım kendime, üşüyorum gölgende\\nHenüz bilmesen de belki bir gün gideceğim\", \"Zor, hangisi kolay ki?\\nHer veda bırakır izini\\nAşktı, bir hata değildik\\nSadece zamanımız tükendi\\nAh, sevdik, sonunu bile bile sevdik\\nGençtik, tabii kolay yolu seçtik\\nAcıyıp geçtik\\nSevdik, sonunu bile bile sevdik\\nDaha gençtik, tabii kolay yolu seçtik\\nAcıyıp geçtik\\nBiz iki âşık, kafaları karışık\\nBir sağa çarptık bir sola çarptık\\nNası' bitti biz de şaşırdık\\nKime sorsan çok yakışırdık\\nİki âşık, kafaları karışık\\nBir sağa çarptık bir sola çarptık\\nNası' bitti biz de şaşırdık\\nKime sorsan çok yakışırdık\\nAh, sevdik, sonunu bile bile sevdik\\nGençtik, tabii kolay yolu seçtik\\nAcıyıp geçtik\\nSevdik, sonunu bile bile sevdik\\nDaha gençtik, tabii kolay yolu seçtik\\nAcıyıp geçtik\\nBiz iki âşık, kafaları karışık\\nBir sağa çarptık bir sola çarptık\\nNası' bitti biz de şaşırdık\\nKime sorsan çok yakışırdık\\nİki âşık, kafaları karışık\\nBir sağa çarptık bir sola çarptık\\nNası' bitti biz de şaşırdık\\nKime sorsan çok yakışırdık\\nİki âşık, kafaları karışık\\nBir sağa çarptık bir sola çarptık\\nNası' bitti biz de şaşırdık\\nKime sorsan çok yakışırdık\", 'Umut yok bir ışık yok gözlerinde\\nBen hala bekleyenim olsun\\nAteş yok sıcaklık yok ellerinde\\nBen yanarım aşkın sağ olsun\\nSen kapımı çal ansızın, gir içeri\\nHer zaman başımın üstünde senin yerin\\nDilim tutulur sözcükler uçarsa aklımdan\\nBenim güzel misafirim sen hep hoşgeldin\\nSen sevda mısın yoksa yalan dolan\\nPüsküllü belam olup derde salan\\nVar bir yaşanmamışlık sanki özünde\\nBenim içimde uhde kalan\\nSen sevda mısın yoksa yalan dolan\\nPüsküllü belam olup derde salan\\nVar bir yaşanmamışlık sanki özünde\\nBenim içimde uhde kalan\\nSen sevda mısın yoksa yalan dolan\\nPüsküllü belam olup derde salan\\nVar bir yaşanmamışlık sanki özünde\\nBenim içimde uhde kalan\\nSen kapımı çal ansızın gir içeri\\nHer zaman başımın üstünde senin yerin\\nDilim tutulur sözcükler uçarsa aklımdan\\nBenim güzel misafirim sen hep hoşgeldin\\nSen sevda mısın yoksa yalan dolan\\nPüsküllü belam olup derde salan\\nVar bir yaşanmamışlık sanki özünde\\nBenim içimde uhde kalan\\nSen sevda mısın yoksa yalan dolan\\nPüsküllü belam olup derde salan\\nVar bir yaşanmamışlık sanki özünde\\nBenim içimde uhde kalan\\nBiriktirdiğim aşkları hiçe sayan', \"Alla beni, pulla beni, al koynuna, yâr\\nGözüm senden başkasını görmez oldu, yâr\\nGönlüm senden bir şey ister, nasıl desem, yâr?\\nAlla beni, pulla beni, al koynuna, yâr\\nSenin için dağları deler, yol açarım, yâr\\nSenin için denizleri kuruturum, yâr\\nSenin için gök kubbeyi yerlere çalarım, yâr\\nCanım' iste, canım bile sana kurban, yâr\\nDağlar, taşlar, uçan kuşlar senin olsun, yâr\\nDeniz, derya, gökler hep yerinde dursun, yâr\\nGönlüm senden bir şey ister, nasıl desem, yâr?\\nAlla beni, pulla beni, al koynuna, yâr\\nSaçlarına yıldızlardan taç yapayım, yâr\\nBir nefesle güneşleri söndüreyim, yâr\\nÇıra gibi uğrunda ben yanayım, yâr\\nCanım' iste, canım bile sana kurban, yâr\\nYıldızlar yerinde güzel, bırak dursun, yâr\\nSaçlarımı ellerinle okşa yeter, yâr\\nGönlüm senden bir şey ister, nasıl desem, yâr?\\nAlla beni, pulla beni, al koynuna, yâr\\nRüzgâr olup ince beline sarılayım, yâr\\nÇimen olup ayağına serileyim, yâr\\nSürme olup gözlerine sürüleyim, yâr\\nCanım' iste, canım bile sana kurban, yâr\\nAlla beni, pulla beni, al koynuna, yâr\\nGözüm senden başkasını görmez oldu, yâr\\nGönlüm senden bir şey ister, nasıl desem, yâr?\\nAlla beni, pulla beni, al koynuna, yâr\\nAlla beni, pulla beni, al koynuna, yâr\\nGözüm senden başkasını görmez oldu, yâr\\nGönlüm senden bir şey ister, nasıl desem, yâr?\\nAlla beni, pulla beni, al koynuna, yâr\\nAlla beni, pulla beni, al koynuna, yâr\\nGözüm senden başkasını görmez oldu, yâr\", 'Sen gülünce güller açar, gülpembe\\nBülbüller seni söyler, biz dinlerdik, gülpembe\\nSen gelince bahar gelir, gülpembe\\nDereler seni çağlar, sevinirdik, gülpembe\\nGüz yağmurlarıyla bir gün göçtün gittin\\nİnanamadık, gülpembe\\nBizim iller sessiz\\nBizim iller sensiz\\nOlamadı, gülpembe\\nDudağımda son bir türkü, gülpembe\\nHâlâ hep seni söyler, seni çağırır, gülpembe\\nGüz yağmurlarıyla bir gün göçtün gittin\\nİnanamadık, gülpembe\\nBizim iller sessiz\\nBizim iller sensiz\\nOlamadı, gülpembe\\nDudağımda son bir türkü, gülpembe\\nHâlâ hep seni söyler, seni çağırır, gülpembe\\nGözlerimde son bir bulut, gülpembe\\nHâlâ hep seni arar, seni bekler, gülpembe\\nDudağımda son bir türkü, gülpembe\\nHâlâ hep seni söyler, seni çağırır, gülpembe\\nGözlerimde son bir bulut, gülpembe\\nHâlâ hep seni arar, seni bekler, gülpembe\\nDudağımda son bir türkü, gülpembe\\nHâlâ hep seni söyler', 'Kaç yıl oldu saymadım köyden göçeli\\nMevsimler geldi geçti, görüşmeyeli\\nHiç haber göndermedin o günden beri\\nYoksa bana küstün mü? Unuttun mu beni?\\nDün yine seni andım, gözlerim doldu\\nO tatlı günlerimiz bir anı oldu\\nAyrılık geldi başa, katlanmak gerek\\nSeni çok çok özledim, arkadaşım eşek\\nArkadaşım eş, arkadaşım şek, arkadaşım eşek\\n(Arkadaşım eş, arkadaşım şek, arkadaşım eşek)\\nYaban tayları çayırda tepişiyor mu?\\nÇilli horoz kedilerle dövüşüyor mu?\\nSarıkız minik buzağıyı sütten kesti mi?\\nKuzularla oğlaklar sevişiyor mu?\\nUzun kulaklarını son bir kez salla\\nTüm eski dostlarımdan bir haber yolla\\nAyrılık geldi başa, katlanmak gerek\\nSeni çok çok özledim arkadaşım eşek\\nArkadaşım eş, arkadaşım şek, arkadaşım eşek\\n(Arkadaşım eş, arkadaşım şek, arkadaşım eşek)\\nArkadaşım eş, arkadaşım şek, arkadaşım eşek\\n(Arkadaşım eş, arkadaşım şek, arkadaşım eşek)\\n(Arkadaşım eş, arkadaşım şek, arkadaşım eşek)\\n(Arkadaşım eş, arkadaşım şek, arkadaşım eşek)', 'Sen gittin gideli\\nİçimde öyle bir sızı var ki\\nYalnız sen anlarsın\\nSen şimdi uzakta\\nCennette meleklerle\\nBizi düşler ağlarsın\\nBugün bayram\\nErken kalkın çocuklar\\nGiyelim en güzel giysileri\\nElimizde taze kır çiçekleri\\nÜzmeyelim bugün annemizi\\nBugün bayram\\nErken kalkın çocuklar\\nGiyelim en güzel giysileri\\nElimizde taze kır çiçekleri\\nÜzmeyelim bugün annemizi\\nSen yaz geceleri\\nYıldızlar içinden ara sıra\\nBize göz kırparsın\\nSen soğuk günlerde\\nKalbimi ısıtan en sıcak anımsın\\nBugün bayram\\nErken kalkın çocuklar\\nGiyelim en güzel giysileri\\nElimizde taze kır çiçekleri\\nÜzmeyelim bugün annemizi\\nBugün bayram\\nErken kalkın çocuklar\\nGiyelim en güzel giysileri\\nElimizde taze kır çiçekleri\\nÜzmeyelim bugün annemizi\\nBugün bayram\\nÇabuk olun çocuklar\\nAnnemiz bugün bizi bekler\\nBayramlarda hüzünlenir melekler\\nGönül alır bu güzel çiçekler', 'Yoksun, bu kalbi yaksam\\nSönmez kor gibi zalim (zalim)\\nYeterdi bir kere de baksan\\nSendin benim tek hayalim\\nKalbim bir hayli hüsran\\nSebebi sen yine hain (hain)\\nYıkıldı kaç kere dünyam\\nSenin yüzünden zalim\\nBulsam yeni bir yol var\\nBir yanım enkaz sensiz olmaz\\nYanına da kalmaz\\nAdını anmam bir daha bak\\nDuysan beni bir duysan\\nYüreği taştan yokluğu zindan\\nGidişine susmam\\nYerine koymam kimseyi, ah\\nYoksun, bu kalbi yaksam\\nSönmez kor gibi zalim (zalim)\\nYeterdi bir kere de baksan\\nSendin benim tek hayalim\\nKalbim bir hayli hüsran\\nSebebi sen yine hain (hain)\\nYıkıldı kaç kere dünyam\\nSenin yüzünden zalim\\nYalnız bende ahı kaldı\\nSilemedim geriye resmi kaldı\\nKader de ayrı ayrı yazdı\\nGücüm yeter mi söyle\\nYoksun, bu kalbi yaksam\\nSönmez kor gibi zalim (zalim)\\nYeterdi bir kere de baksan\\nSendin benim tek hayalim\\nKalbim bir hayli hüsran\\nSebebi sen yine hain (hain)\\nYıkıldı kaç kere dünyam\\nSenin yüzünden zalim (zalim, zalim)'], 'label': [1, 1, 1, 1, 1, 1, 1, 1, 1, 0, 0, 0, 0, 0, 0, 0, 0]}\n"
          ]
        }
      ]
    },
    {
      "cell_type": "code",
      "source": [
        "df = pd.DataFrame(data)\n",
        "print(df.head(16))\n"
      ],
      "metadata": {
        "colab": {
          "base_uri": "https://localhost:8080/"
        },
        "id": "FKsxChUkeoKR",
        "outputId": "08bb5fa6-dbf9-4dec-c61f-0196eb915485"
      },
      "execution_count": 4,
      "outputs": [
        {
          "output_type": "stream",
          "name": "stdout",
          "text": [
            "                                               lyrics  label\n",
            "0   Kime ne kime ne kime ne\\nKafam taşak gibi yine...      1\n",
            "1   Çek bi' duman bana, dön bunu\\nHer tadan aklını...      1\n",
            "2   Bu \"G\" ve de \"i\" ve de \"Z\" bide \"GANG\" ah\\nSul...      1\n",
            "3   Adana, Adana\\nAdana merkez, patlıyo' herkes\\nŞ...      1\n",
            "4   Na-na-na-na-na-na, ha-ha-ah\\nGece-geceler\\nGec...      1\n",
            "5   Ankara ayazı ruhumu keser\\nBi' cebimde yok kap...      1\n",
            "6   Ah, ah, ah, yeah\\n(B-B-B-Bugy)\\nEy\\nYine günle...      1\n",
            "7   Şşşt yavru alıyım mı seni?\\nBana geçeriz ya, s...      1\n",
            "8   Sarhoşum ah düşünmekten\\nÖldüm ben ah hep sevm...      1\n",
            "9   Bazen bana gelir, gider seni dert etmeler\\nSen...      0\n",
            "10  Zor, hangisi kolay ki?\\nHer veda bırakır izini...      0\n",
            "11  Umut yok bir ışık yok gözlerinde\\nBen hala bek...      0\n",
            "12  Alla beni, pulla beni, al koynuna, yâr\\nGözüm ...      0\n",
            "13  Sen gülünce güller açar, gülpembe\\nBülbüller s...      0\n",
            "14  Kaç yıl oldu saymadım köyden göçeli\\nMevsimler...      0\n",
            "15  Sen gittin gideli\\nİçimde öyle bir sızı var ki...      0\n"
          ]
        }
      ]
    },
    {
      "cell_type": "code",
      "source": [
        "vectorizer = CountVectorizer()\n",
        "X = vectorizer.fit_transform(df['lyrics'])\n",
        "\n",
        "# Eğitim ve test veri setlerini oluşturalım\n",
        "X_train, X_test, y_train, y_test = train_test_split(X, df['label'], test_size=0.2, random_state=42)\n",
        "\n",
        "# Naive Bayes modelini eğitelim\n",
        "model = MultinomialNB()\n",
        "model.fit(X_train, y_train)\n",
        "\n",
        "# Test veri seti üzerinde tahmin yapalım\n",
        "y_pred = model.predict(X_test)\n",
        "\n",
        "# Modelin performansını değerlendirelim\n",
        "accuracy = accuracy_score(y_test, y_pred)\n",
        "print(\"Accuracy:\", accuracy)\n",
        "\n",
        "# Sınıflandırma raporunu gösterelim\n",
        "print(classification_report(y_test, y_pred))\n",
        "\n",
        "# Örnek bir şarkı sözü üzerinde modeli deneyelim\n",
        "song_lyrics = [\"Uçuyorum göklerde elimde esrar umuyorum konmam bir daha\"]\n",
        "song_vector = vectorizer.transform(song_lyrics)\n",
        "prediction = model.predict(song_vector)\n",
        "if prediction[0] == 1:\n",
        "    print(\"Bu şarkı zararlı.\")\n",
        "else:\n",
        "    print(\"Bu şarkı zararsız.\")"
      ],
      "metadata": {
        "colab": {
          "base_uri": "https://localhost:8080/"
        },
        "id": "RhxssiPIgnZz",
        "outputId": "3e93eff9-6a77-4d9d-e479-fc4dff057ff0"
      },
      "execution_count": 5,
      "outputs": [
        {
          "output_type": "stream",
          "name": "stdout",
          "text": [
            "Accuracy: 0.75\n",
            "              precision    recall  f1-score   support\n",
            "\n",
            "           0       0.50      1.00      0.67         1\n",
            "           1       1.00      0.67      0.80         3\n",
            "\n",
            "    accuracy                           0.75         4\n",
            "   macro avg       0.75      0.83      0.73         4\n",
            "weighted avg       0.88      0.75      0.77         4\n",
            "\n",
            "Bu şarkı zararlı.\n"
          ]
        }
      ]
    },
    {
      "cell_type": "code",
      "source": [
        "song_lyrics = [\"Aşk bir yalan, ademle havvadan kalan\"]\n",
        "song_vector = vectorizer.transform(song_lyrics)\n",
        "prediction = model.predict(song_vector)\n",
        "if prediction[0] == 1:\n",
        "    print(\"Bu şarkı zararlı.\")\n",
        "else:\n",
        "    print(\"Bu şarkı zararsız.\")"
      ],
      "metadata": {
        "colab": {
          "base_uri": "https://localhost:8080/"
        },
        "id": "vJpPhvXBg2Hp",
        "outputId": "99b2dfde-3a18-41b6-c0aa-bdd240834e8a"
      },
      "execution_count": 6,
      "outputs": [
        {
          "output_type": "stream",
          "name": "stdout",
          "text": [
            "Bu şarkı zararsız.\n"
          ]
        }
      ]
    }
  ]
}